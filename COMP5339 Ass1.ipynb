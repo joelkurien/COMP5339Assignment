{
 "cells": [
  {
   "cell_type": "code",
   "execution_count": 452,
   "id": "780b1cd5-4f01-4243-a795-001ae701b473",
   "metadata": {},
   "outputs": [],
   "source": [
    "import pandas as pd\n",
    "import numpy as np"
   ]
  },
  {
   "cell_type": "code",
   "execution_count": 453,
   "id": "f1736eb6-ed65-4c5c-b372-54e698b39afb",
   "metadata": {},
   "outputs": [
    {
     "name": "stdout",
     "output_type": "stream",
     "text": [
      "standard columns： ['Reporting entity', 'Facility name', 'Type', 'State', 'Electricity production GJ', 'Electricity production MWh', 'Total scope 1 emissions t CO2 e', 'Total scope 2 emissions t CO2 e', 'Total emissions t CO2 e', 'Emission intensity t CO2 e MWh', 'Grid connected', 'Grid', 'Primary fuel', 'Important notes']\n",
      "combined size： (5942, 14)\n"
     ]
    },
    {
     "name": "stderr",
     "output_type": "stream",
     "text": [
      "/var/folders/tf/935j0m9132x55ljhbwfzcrq80000gn/T/ipykernel_44263/7382966.py:39: FutureWarning: The behavior of DataFrame concatenation with empty or all-NA entries is deprecated. In a future version, this will no longer exclude empty or all-NA columns when determining the result dtypes. To retain the old behavior, exclude the relevant entries before the concat operation.\n",
      "  NGER = pd.concat(dfs, ignore_index=True, sort=False)\n"
     ]
    }
   ],
   "source": [
    "files = [\n",
    "    \"NGER.ID0075.csv\", \"NGER.ID0076.csv\", \"NGER.ID0077.csv\",\n",
    "    \"NGER.ID0078.csv\", \"NGER.ID0079.csv\", \"NGER.ID0080.csv\",\n",
    "    \"NGER.ID0081.csv\", \"NGER.ID0082.csv\", \"NGER.ID0083.csv\",\n",
    "    \"NGER.ID0243.csv\"\n",
    "]\n",
    "\n",
    "# standard column\n",
    "ref = pd.read_csv(\"NGER.ID0243.csv\")\n",
    "standard_cols = ref.columns.tolist()\n",
    "print(\"standard columns：\", standard_cols)\n",
    "\n",
    "dfs = []\n",
    "\n",
    "for fname in files:\n",
    "    df = pd.read_csv(fname)\n",
    "\n",
    "    # normalize field names\n",
    "    rename_map = {}\n",
    "    for c in df.columns:\n",
    "        c_clean = c.strip().lower().replace(\" \", \"_\")\n",
    "        for std in standard_cols:\n",
    "            std_clean = std.strip().lower().replace(\" \", \"_\")\n",
    "            if c_clean == std_clean:\n",
    "                rename_map[c] = std\n",
    "    df = df.rename(columns = rename_map)\n",
    "\n",
    "    # fill in missing fields\n",
    "    for col in standard_cols:\n",
    "        if col not in df.columns:\n",
    "            df[col] = pd.NA\n",
    "\n",
    "    # keep standard columns only\n",
    "    df = df[standard_cols]\n",
    "\n",
    "    dfs.append(df)\n",
    "\n",
    "# vertical merge\n",
    "NGER = pd.concat(dfs, ignore_index=True, sort=False)\n",
    "print(\"combined size：\", NGER.shape)"
   ]
  },
  {
   "cell_type": "code",
   "execution_count": 454,
   "id": "ce1a6658-74f9-4682-b91a-7c10d64ef801",
   "metadata": {},
   "outputs": [],
   "source": [
    "# drop unnecessary row\n",
    "NGER = NGER[NGER[\"Facility name\"] != \"Corporate Total\"]\n",
    "NGER = NGER.drop(NGER[NGER[\"Type\"].isna()].index)\n",
    "NGER = NGER.drop(NGER[NGER[\"Type\"] == \"-\"].index)\n",
    "NGER = NGER.drop(NGER[NGER[\"Electricity production GJ\"].isna()].index)"
   ]
  },
  {
   "cell_type": "code",
   "execution_count": 455,
   "id": "9317d33e-5422-41a6-992e-4b4864eb822e",
   "metadata": {},
   "outputs": [],
   "source": [
    "# handle missing value in CO2 Emissions by median\n",
    "for col in [\"Total scope 1 emissions t CO2 e\", \"Total scope 2 emissions t CO2 e\"]:\n",
    "    NGER[col] = NGER[col].fillna(NGER[col].median())"
   ]
  },
  {
   "cell_type": "code",
   "execution_count": 456,
   "id": "71f57a35-93c5-4cd5-8549-e27bf4e9f777",
   "metadata": {},
   "outputs": [],
   "source": [
    "# Calculate Emission Intensity\n",
    "mask = NGER[\"Emission intensity t CO2 e MWh\"].isna() & \\\n",
    "       (NGER[\"Electricity production MWh\"] > 0)\n",
    "NGER.loc[mask, \"Emission intensity t CO2 e MWh\"] = (\n",
    "    NGER.loc[mask, \"Total emissions t CO2 e\"] /\n",
    "    NGER.loc[mask, \"Electricity production MWh\"]\n",
    ")"
   ]
  },
  {
   "cell_type": "code",
   "execution_count": 457,
   "id": "449a8c0e-bcf5-4796-92a4-112cdc1ce71a",
   "metadata": {},
   "outputs": [],
   "source": [
    "# handle Grid column\n",
    "NGER[\"Grid connected\"] = NGER[\"Grid connected\"].fillna(\"Off\").replace(\"-\", \"Off\")\n",
    "NGER[\"Grid\"] = NGER[\"Grid\"].fillna(\"Off-grid\").replace(\"-\", \"Off-grid\")"
   ]
  },
  {
   "cell_type": "code",
   "execution_count": 458,
   "id": "d7b4f31b-4f2d-4eef-b1fa-0903c11cdf04",
   "metadata": {},
   "outputs": [],
   "source": [
    "# drop unecessary column\n",
    "NGER = NGER.drop(columns=[\"Important notes\"], errors=\"ignore\")"
   ]
  },
  {
   "cell_type": "code",
   "execution_count": 459,
   "id": "8407a2a5-9b3d-483b-96f9-ed4e4ff60750",
   "metadata": {},
   "outputs": [],
   "source": [
    "# type transform\n",
    "cat_cols = ['Reporting entity','Facility name','Type','State',\n",
    "            'Grid connected','Grid','Primary fuel']\n",
    "for col in cat_cols:\n",
    "    NGER[col] = NGER[col].astype('category')"
   ]
  },
  {
   "cell_type": "code",
   "execution_count": 460,
   "id": "48e902bf-31b9-4f86-a8ea-84709c2120c0",
   "metadata": {},
   "outputs": [
    {
     "name": "stdout",
     "output_type": "stream",
     "text": [
      "<class 'pandas.core.frame.DataFrame'>\n",
      "Index: 4877 entries, 0 to 5940\n",
      "Data columns (total 13 columns):\n",
      " #   Column                           Non-Null Count  Dtype   \n",
      "---  ------                           --------------  -----   \n",
      " 0   Reporting entity                 4476 non-null   category\n",
      " 1   Facility name                    4877 non-null   category\n",
      " 2   Type                             4877 non-null   category\n",
      " 3   State                            4877 non-null   category\n",
      " 4   Electricity production GJ        4877 non-null   float64 \n",
      " 5   Electricity production MWh       4877 non-null   float64 \n",
      " 6   Total scope 1 emissions t CO2 e  4877 non-null   float64 \n",
      " 7   Total scope 2 emissions t CO2 e  4877 non-null   float64 \n",
      " 8   Total emissions t CO2 e          4877 non-null   int64   \n",
      " 9   Emission intensity t CO2 e MWh   4877 non-null   float64 \n",
      " 10  Grid connected                   4877 non-null   category\n",
      " 11  Grid                             4877 non-null   category\n",
      " 12  Primary fuel                     4877 non-null   category\n",
      "dtypes: category(7), float64(5), int64(1)\n",
      "memory usage: 360.6 KB\n",
      "None\n"
     ]
    }
   ],
   "source": [
    "print(NGER.info())\n"
   ]
  },
  {
   "cell_type": "code",
   "execution_count": 461,
   "id": "a22b151a-e8c6-417a-9f07-b29083431409",
   "metadata": {},
   "outputs": [
    {
     "data": {
      "text/plain": [
       "Reporting entity                    314\n",
       "Facility name                       853\n",
       "Type                                  2\n",
       "State                                 8\n",
       "Electricity production GJ          4699\n",
       "Electricity production MWh         4519\n",
       "Total scope 1 emissions t CO2 e    2543\n",
       "Total scope 2 emissions t CO2 e    1156\n",
       "Total emissions t CO2 e            3003\n",
       "Emission intensity t CO2 e MWh     1272\n",
       "Grid connected                        2\n",
       "Grid                                  6\n",
       "Primary fuel                         22\n",
       "dtype: int64"
      ]
     },
     "execution_count": 461,
     "metadata": {},
     "output_type": "execute_result"
    }
   ],
   "source": [
    "NGER.nunique()"
   ]
  }
 ],
 "metadata": {
  "kernelspec": {
   "display_name": "Python 3 (ipykernel)",
   "language": "python",
   "name": "python3"
  },
  "language_info": {
   "codemirror_mode": {
    "name": "ipython",
    "version": 3
   },
   "file_extension": ".py",
   "mimetype": "text/x-python",
   "name": "python",
   "nbconvert_exporter": "python",
   "pygments_lexer": "ipython3",
   "version": "3.12.2"
  }
 },
 "nbformat": 4,
 "nbformat_minor": 5
}
